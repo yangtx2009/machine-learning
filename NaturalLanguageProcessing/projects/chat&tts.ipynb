{
 "cells": [
  {
   "attachments": {},
   "cell_type": "markdown",
   "metadata": {},
   "source": [
    "# Chat & TTS\n",
    "This notebook is just to survey text-to-speech, speech recognition, and chat techniques.\n",
    "\n",
    "In Python, they all have online and offline solutions. We will compare the performance of the packages/approaches with and without Internet here."
   ]
  },
  {
   "attachments": {},
   "cell_type": "markdown",
   "metadata": {},
   "source": [
    "### 1. Text-To-Speech (TTS)\n",
    "TTS or Text-To-Speech aims to convert texts to voice.\n",
    "\n",
    "- Offline:\n",
    "pyttsx3 is a text-to-speech conversion library in Python. Please install pyttsx3 with version 2.71, because the higher version does not work.\n",
    "    ```\n",
    "    pip install pyttsx3==2.71\n",
    "    ```"
   ]
  },
  {
   "cell_type": "code",
   "execution_count": 54,
   "metadata": {},
   "outputs": [],
   "source": [
    "import pyttsx3\n",
    "engine = pyttsx3.init()"
   ]
  },
  {
   "cell_type": "code",
   "execution_count": 55,
   "metadata": {},
   "outputs": [],
   "source": [
    "rate = engine.getProperty('rate')   # 200 by default\n",
    "engine.setProperty('rate', 150)"
   ]
  },
  {
   "attachments": {},
   "cell_type": "markdown",
   "metadata": {},
   "source": [
    "Check languages and gender.\n",
    "In Windows, language and gender are not specified as key-value pair, but in ID and name. Such as\n",
    "```xml\n",
    "<Voice id=HKEY_LOCAL_MACHINE\\SOFTWARE\\Microsoft\\Speech\\Voices\\Tokens\\TTS_MS_EN-US_DAVID_11.0\n",
    "          name=Microsoft David Desktop - English (United States)\n",
    "          languages=[]\n",
    "          gender=None\n",
    "          age=None>\n",
    "```"
   ]
  },
  {
   "cell_type": "code",
   "execution_count": 56,
   "metadata": {},
   "outputs": [
    {
     "name": "stdout",
     "output_type": "stream",
     "text": [
      "nt\n",
      "Windows\n",
      "{'English': 'HKEY_LOCAL_MACHINE\\\\SOFTWARE\\\\Microsoft\\\\Speech\\\\Voices\\\\Tokens\\\\TTS_MS_EN-US_ZIRA_11.0', 'German': 'HKEY_LOCAL_MACHINE\\\\SOFTWARE\\\\Microsoft\\\\Speech\\\\Voices\\\\Tokens\\\\TTS_MS_DE-DE_HEDDA_11.0'}\n"
     ]
    }
   ],
   "source": [
    "import os\n",
    "available_languages = {}\n",
    "\n",
    "print(os.name)\n",
    "if os.name == \"nt\":\n",
    "    print('Windows')\n",
    "else:\n",
    "    print('Linux')\n",
    "\n",
    "for index, voice in enumerate(engine.getProperty('voices')):\n",
    "    # print(index, voice)\n",
    "    if os.name == \"nt\":\n",
    "        if 'EN-US' in voice.id:\n",
    "            available_languages['English'] = voice.id\n",
    "        elif 'DE-DE' in voice.id:\n",
    "            available_languages['German'] = voice.id\n",
    "    else:\n",
    "        if 'en_US' in voice.languages:\n",
    "            available_languages['English'] = voice.id\n",
    "        elif 'de_DE' in voice.languages:\n",
    "            available_languages['German'] = voice.id\n",
    "\n",
    "print(available_languages)\n",
    "engine.setProperty('voice', available_languages['English'])\n",
    "engine.say(\"Which language do you want to speak?\")\n",
    "engine.runAndWait()\n",
    "\n",
    "options = list(available_languages.keys())\n",
    "if len(options) > 1:\n",
    "    options.insert(-1, 'or')\n",
    "options_text = ' '.join(options)\n",
    "engine.say(options_text)\n",
    "engine.runAndWait()"
   ]
  },
  {
   "cell_type": "code",
   "execution_count": 57,
   "metadata": {},
   "outputs": [],
   "source": [
    "german_text = '''\n",
    "Bilder eines TV-Senders zeigen, \n",
    "wie die Unterstützer des abgewählten rechtsextremem Präsidenten Fensterscheiben einschlagen \n",
    "und in die Eingangshalle vordringen. \n",
    "Auch auf den Parkplatz des Präsidentenpalastes sollen die Randalierer vorgedrungen sein. \n",
    "'''\n",
    "english_text = '''\n",
    "I will speak this text.\n",
    "'''"
   ]
  },
  {
   "cell_type": "code",
   "execution_count": 58,
   "metadata": {},
   "outputs": [],
   "source": [
    "engine.setProperty('voice', available_languages['German'])\n",
    "engine.say(german_text)\n",
    "engine.runAndWait()\n",
    "engine.save_to_file('Hello World', 'test.mp3')\n",
    "engine.runAndWait()"
   ]
  },
  {
   "cell_type": "code",
   "execution_count": 59,
   "metadata": {},
   "outputs": [],
   "source": [
    "engine.stop()"
   ]
  },
  {
   "attachments": {},
   "cell_type": "markdown",
   "metadata": {},
   "source": [
    "### 2. Speech Recognition\n",
    "```bash\n",
    "pip install PyAudio\n",
    "pip install pocketsphinx\n",
    "pip install SpeechRecognition\n",
    "```"
   ]
  },
  {
   "cell_type": "code",
   "execution_count": 97,
   "metadata": {},
   "outputs": [],
   "source": [
    "import speech_recognition as sr\n",
    "import time\n",
    "r = sr.Recognizer()\n",
    "m = sr.Microphone()\n",
    "recognizer_type = 'google'  # sphinx, wit, bing, houndify, ibm, whisper"
   ]
  },
  {
   "cell_type": "code",
   "execution_count": 98,
   "metadata": {},
   "outputs": [],
   "source": [
    "def sphinx_callback(recognizer: sr.Recognizer, audio: sr.AudioData):\n",
    "    try:\n",
    "        print(\"Sphinx thinks you said \\'\" + r.recognize_sphinx(audio) + \"\\'\")\n",
    "    except sr.UnknownValueError:\n",
    "        print(\"Sphinx could not understand audio\")\n",
    "    except sr.RequestError as e:\n",
    "        print(\"Sphinx error; {0}\".format(e))"
   ]
  },
  {
   "cell_type": "code",
   "execution_count": 101,
   "metadata": {},
   "outputs": [],
   "source": [
    "def google_callback(recognizer: sr.Recognizer, audio: sr.AudioData):\n",
    "    try:\n",
    "        print(\"Google thinks you said \\'\" + r.recognize_google(audio) + \"\\'\")\n",
    "    except sr.UnknownValueError:\n",
    "        print(\"Google could not understand audio\")\n",
    "    except sr.RequestError as e:\n",
    "        print(\"Google error; {0}\".format(e))"
   ]
  },
  {
   "cell_type": "code",
   "execution_count": 102,
   "metadata": {},
   "outputs": [
    {
     "name": "stdout",
     "output_type": "stream",
     "text": [
      "Please speak ...\n",
      "result2:\n",
      "{   'alternative': [   {   'confidence': 0.90512341,\n",
      "                           'transcript': 'what can I do for you'}],\n",
      "    'final': True}\n",
      "Google thinks you said 'what can I do for you'\n"
     ]
    }
   ],
   "source": [
    "with m as source:\n",
    "    r.adjust_for_ambient_noise(source)\n",
    "\n",
    "print('Please speak ...')\n",
    "time.sleep(0.1)\n",
    "stop_listening = r.listen_in_background(m, google_callback)\n",
    "\n",
    "for _ in range(50): time.sleep(0.1)\n",
    "stop_listening(wait_for_stop=False)"
   ]
  }
 ],
 "metadata": {
  "kernelspec": {
   "display_name": "base",
   "language": "python",
   "name": "python3"
  },
  "language_info": {
   "codemirror_mode": {
    "name": "ipython",
    "version": 3
   },
   "file_extension": ".py",
   "mimetype": "text/x-python",
   "name": "python",
   "nbconvert_exporter": "python",
   "pygments_lexer": "ipython3",
   "version": "3.7.6"
  },
  "orig_nbformat": 4,
  "vscode": {
   "interpreter": {
    "hash": "69086cd27d80735ecca93b4f2fbc0a4ef3efce5c113ff487873c7dd6d16dd3fb"
   }
  }
 },
 "nbformat": 4,
 "nbformat_minor": 2
}
