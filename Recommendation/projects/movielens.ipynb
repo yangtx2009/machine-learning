{
 "cells": [
  {
   "attachments": {},
   "cell_type": "markdown",
   "metadata": {},
   "source": [
    "# Recommendation Algorithms\n",
    "This script demonstrates and tests recommendation algorithms on [Movie Lens Dataset](https://grouplens.org/datasets/movielens/)."
   ]
  },
  {
   "cell_type": "code",
   "execution_count": 1,
   "metadata": {},
   "outputs": [],
   "source": [
    "import os\n",
    "import sys\n",
    "import numpy as np\n",
    "import pandas as pd\n",
    "import matplotlib.pyplot as plt"
   ]
  },
  {
   "attachments": {},
   "cell_type": "markdown",
   "metadata": {},
   "source": [
    "### 1. Check and prepare MovieLens dataset.\n",
    "\n",
    "MovieLens provides one [small](https://files.grouplens.org/datasets/movielens/ml-latest-small.zip) (1MB) and one [large](https://files.grouplens.org/datasets/movielens/ml-latest.zip) (25MB) dataset, which describes 5-star rating and free-text tagging activity.\n",
    "\n",
    "- **ml-1m**: 100836 ratings, 3683 tag applications across 9742 movies, 610 users\n",
    "- **ml-25m**: 25000095 ratings, 1093360 tag applications across 62423 movies, 162541 users\n",
    "\n",
    "Users were selected at random for inclusion. All selected users had rated at least 20 movies. No demographic information is included. Each user is represented by an id, and no other information is provided.\n",
    "\n",
    "The data are contained in the files genome-scores.csv, genome-tags.csv, links.csv, movies.csv, ratings.csv and tags.csv."
   ]
  },
  {
   "cell_type": "code",
   "execution_count": 2,
   "metadata": {},
   "outputs": [
    {
     "name": "stdout",
     "output_type": "stream",
     "text": [
      "Dataset was downloaded.\n"
     ]
    }
   ],
   "source": [
    "if not os.path.isdir('data'):\n",
    "    os.mkdir('data')\n",
    "\n",
    "data_root = 'data/ml-1m'\n",
    "zip_file = data_root+'.zip'\n",
    "\n",
    "if not os.path.isdir(data_root):\n",
    "    if not os.path.exists(zip_file):\n",
    "        import requests\n",
    "        response = requests.get(\"https://files.grouplens.org/datasets/movielens/ml-latest-small.zip\")\n",
    "        open(zip_file, \"wb\").write(response.content)\n",
    "\n",
    "    import zipfile\n",
    "    with zipfile.ZipFile(zip_file, 'r') as ref:\n",
    "        ref.extractall('data')  # root directory\n",
    "        os.rename('data/ml-latest-small', data_root)\n",
    "    os.remove(zip_file)\n",
    "\n",
    "print('Dataset was downloaded.')"
   ]
  },
  {
   "cell_type": "code",
   "execution_count": 3,
   "metadata": {},
   "outputs": [],
   "source": [
    "movies = pd.read_csv(os.path.join(data_root, 'movies.csv'))\n",
    "rating = pd.read_csv(os.path.join(data_root, 'ratings.csv'))\n",
    "links = pd.read_csv(os.path.join(data_root, 'links.csv'))\n",
    "tags = pd.read_csv(os.path.join(data_root, 'tags.csv'))\n",
    "\n",
    "# check number of users and movies\n",
    "user_num = len(rating.userId.unique())\n",
    "movie_num = len(movies)\n",
    "print(f'Movie number: {movie_num}, user number: {user_num}')\n",
    "\n",
    "movies['newMovieId'] = movies.index\n",
    "new_rating = rating.merge(movies, on='movieId', how='left')\n",
    "new_rating['newUserId'] = new_rating['userId']-1\n",
    "\n",
    "movies.head(2)"
   ]
  },
  {
   "cell_type": "code",
   "execution_count": null,
   "metadata": {},
   "outputs": [
    {
     "data": {
      "text/html": [
       "<div>\n",
       "<style scoped>\n",
       "    .dataframe tbody tr th:only-of-type {\n",
       "        vertical-align: middle;\n",
       "    }\n",
       "\n",
       "    .dataframe tbody tr th {\n",
       "        vertical-align: top;\n",
       "    }\n",
       "\n",
       "    .dataframe thead th {\n",
       "        text-align: right;\n",
       "    }\n",
       "</style>\n",
       "<table border=\"1\" class=\"dataframe\">\n",
       "  <thead>\n",
       "    <tr style=\"text-align: right;\">\n",
       "      <th></th>\n",
       "      <th>movieId</th>\n",
       "      <th>imdbId</th>\n",
       "      <th>tmdbId</th>\n",
       "    </tr>\n",
       "  </thead>\n",
       "  <tbody>\n",
       "    <tr>\n",
       "      <th>0</th>\n",
       "      <td>1</td>\n",
       "      <td>114709</td>\n",
       "      <td>862.0</td>\n",
       "    </tr>\n",
       "    <tr>\n",
       "      <th>1</th>\n",
       "      <td>2</td>\n",
       "      <td>113497</td>\n",
       "      <td>8844.0</td>\n",
       "    </tr>\n",
       "  </tbody>\n",
       "</table>\n",
       "</div>"
      ],
      "text/plain": [
       "   movieId  imdbId  tmdbId\n",
       "0        1  114709   862.0\n",
       "1        2  113497  8844.0"
      ]
     },
     "execution_count": 22,
     "metadata": {},
     "output_type": "execute_result"
    }
   ],
   "source": [
    "links.head(2)"
   ]
  },
  {
   "cell_type": "code",
   "execution_count": null,
   "metadata": {},
   "outputs": [
    {
     "data": {
      "text/html": [
       "<div>\n",
       "<style scoped>\n",
       "    .dataframe tbody tr th:only-of-type {\n",
       "        vertical-align: middle;\n",
       "    }\n",
       "\n",
       "    .dataframe tbody tr th {\n",
       "        vertical-align: top;\n",
       "    }\n",
       "\n",
       "    .dataframe thead th {\n",
       "        text-align: right;\n",
       "    }\n",
       "</style>\n",
       "<table border=\"1\" class=\"dataframe\">\n",
       "  <thead>\n",
       "    <tr style=\"text-align: right;\">\n",
       "      <th></th>\n",
       "      <th>userId</th>\n",
       "      <th>movieId</th>\n",
       "      <th>tag</th>\n",
       "      <th>timestamp</th>\n",
       "    </tr>\n",
       "  </thead>\n",
       "  <tbody>\n",
       "    <tr>\n",
       "      <th>0</th>\n",
       "      <td>2</td>\n",
       "      <td>60756</td>\n",
       "      <td>funny</td>\n",
       "      <td>1445714994</td>\n",
       "    </tr>\n",
       "    <tr>\n",
       "      <th>1</th>\n",
       "      <td>2</td>\n",
       "      <td>60756</td>\n",
       "      <td>Highly quotable</td>\n",
       "      <td>1445714996</td>\n",
       "    </tr>\n",
       "  </tbody>\n",
       "</table>\n",
       "</div>"
      ],
      "text/plain": [
       "   userId  movieId              tag   timestamp\n",
       "0       2    60756            funny  1445714994\n",
       "1       2    60756  Highly quotable  1445714996"
      ]
     },
     "execution_count": 23,
     "metadata": {},
     "output_type": "execute_result"
    }
   ],
   "source": [
    "tags.head(2)"
   ]
  },
  {
   "cell_type": "code",
   "execution_count": null,
   "metadata": {},
   "outputs": [
    {
     "data": {
      "text/html": [
       "<div>\n",
       "<style scoped>\n",
       "    .dataframe tbody tr th:only-of-type {\n",
       "        vertical-align: middle;\n",
       "    }\n",
       "\n",
       "    .dataframe tbody tr th {\n",
       "        vertical-align: top;\n",
       "    }\n",
       "\n",
       "    .dataframe thead th {\n",
       "        text-align: right;\n",
       "    }\n",
       "</style>\n",
       "<table border=\"1\" class=\"dataframe\">\n",
       "  <thead>\n",
       "    <tr style=\"text-align: right;\">\n",
       "      <th></th>\n",
       "      <th>userId</th>\n",
       "      <th>movieId</th>\n",
       "      <th>rating</th>\n",
       "      <th>timestamp</th>\n",
       "      <th>title</th>\n",
       "      <th>genres</th>\n",
       "      <th>newMovieId</th>\n",
       "      <th>newUserId</th>\n",
       "    </tr>\n",
       "  </thead>\n",
       "  <tbody>\n",
       "    <tr>\n",
       "      <th>0</th>\n",
       "      <td>1</td>\n",
       "      <td>1</td>\n",
       "      <td>4.0</td>\n",
       "      <td>964982703</td>\n",
       "      <td>Toy Story (1995)</td>\n",
       "      <td>Adventure|Animation|Children|Comedy|Fantasy</td>\n",
       "      <td>0</td>\n",
       "      <td>0</td>\n",
       "    </tr>\n",
       "    <tr>\n",
       "      <th>1</th>\n",
       "      <td>1</td>\n",
       "      <td>3</td>\n",
       "      <td>4.0</td>\n",
       "      <td>964981247</td>\n",
       "      <td>Grumpier Old Men (1995)</td>\n",
       "      <td>Comedy|Romance</td>\n",
       "      <td>2</td>\n",
       "      <td>0</td>\n",
       "    </tr>\n",
       "  </tbody>\n",
       "</table>\n",
       "</div>"
      ],
      "text/plain": [
       "   userId  movieId  rating  timestamp                    title  \\\n",
       "0       1        1     4.0  964982703         Toy Story (1995)   \n",
       "1       1        3     4.0  964981247  Grumpier Old Men (1995)   \n",
       "\n",
       "                                        genres  newMovieId  newUserId  \n",
       "0  Adventure|Animation|Children|Comedy|Fantasy           0          0  \n",
       "1                               Comedy|Romance           2          0  "
      ]
     },
     "execution_count": 24,
     "metadata": {},
     "output_type": "execute_result"
    }
   ],
   "source": [
    "new_rating.head(2)"
   ]
  },
  {
   "attachments": {},
   "cell_type": "markdown",
   "metadata": {},
   "source": [
    "#### 1.1. User-Item dataset\n",
    "The target is to get a matrix. Rows -> Movies. Columns -> Users."
   ]
  },
  {
   "cell_type": "code",
   "execution_count": null,
   "metadata": {},
   "outputs": [
    {
     "data": {
      "text/plain": [
       "9724"
      ]
     },
     "execution_count": 25,
     "metadata": {},
     "output_type": "execute_result"
    }
   ],
   "source": [
    "len(rating['movieId'].unique())"
   ]
  },
  {
   "cell_type": "code",
   "execution_count": null,
   "metadata": {},
   "outputs": [
    {
     "data": {
      "text/plain": [
       "(array([[4. , nan, nan, ..., 2.5, 3. , 5. ],\n",
       "        [nan, nan, nan, ..., 2. , nan, nan],\n",
       "        [4. , nan, nan, ..., 2. , nan, nan],\n",
       "        ...,\n",
       "        [nan, nan, nan, ..., nan, nan, nan],\n",
       "        [nan, nan, nan, ..., nan, nan, nan],\n",
       "        [nan, nan, nan, ..., nan, nan, nan]]),\n",
       " (9742, 610))"
      ]
     },
     "execution_count": 26,
     "metadata": {},
     "output_type": "execute_result"
    }
   ],
   "source": [
    "utility_matrix = np.empty([movie_num, user_num])\n",
    "utility_matrix[:] = np.nan\n",
    "utility_matrix[new_rating['newMovieId'], new_rating['newUserId']] = new_rating['rating']\n",
    "mask = np.isnan(utility_matrix)\n",
    "utility_matrix, utility_matrix.shape"
   ]
  },
  {
   "attachments": {},
   "cell_type": "markdown",
   "metadata": {},
   "source": [
    "Calculate the mean and standard deviation of rating for each movie. Since users do not rate each movie, there must be some missing values in the utility matrix. When we normalize the data, we should thus mask the unrated values out."
   ]
  },
  {
   "cell_type": "code",
   "execution_count": null,
   "metadata": {},
   "outputs": [
    {
     "data": {
      "text/plain": [
       "array([[ 0.09493122,  0.        ,  0.        , ..., -1.70596992,\n",
       "        -1.10566954,  1.29553199],\n",
       "       [ 0.        ,  0.        ,  0.        , ..., -1.63133437,\n",
       "         0.        ,  0.        ],\n",
       "       [ 0.70875169,  0.        ,  0.        , ..., -1.20579833,\n",
       "         0.        ,  0.        ],\n",
       "       ...,\n",
       "       [ 0.        ,  0.        ,  0.        , ...,  0.        ,\n",
       "         0.        ,  0.        ],\n",
       "       [ 0.        ,  0.        ,  0.        , ...,  0.        ,\n",
       "         0.        ,  0.        ],\n",
       "       [ 0.        ,  0.        ,  0.        , ...,  0.        ,\n",
       "         0.        ,  0.        ]])"
      ]
     },
     "execution_count": 27,
     "metadata": {},
     "output_type": "execute_result"
    }
   ],
   "source": [
    "masked_arr = np.ma.masked_array(utility_matrix, mask)\n",
    "rating_mean = masked_arr.mean(axis=1)\n",
    "rating_mean = rating_mean.data[:,np.newaxis]\n",
    "\n",
    "rating_std = masked_arr.std(axis=1)+1e-6\n",
    "rating_std = rating_std.data[:,np.newaxis]\n",
    "\n",
    "masked_arr = (masked_arr-rating_mean)/rating_std\n",
    "masked_arr = masked_arr.filled(0)\n",
    "masked_arr"
   ]
  },
  {
   "attachments": {},
   "cell_type": "markdown",
   "metadata": {},
   "source": [
    "### 2.1. Singular Value Decomposition (SVD)"
   ]
  },
  {
   "attachments": {},
   "cell_type": "markdown",
   "metadata": {},
   "source": [
    "<center><img src=\"https://latex.codecogs.com/svg.image?M=U\\Sigma&space;V^H\" title=\"https://latex.codecogs.com/svg.image?M=U\\Sigma V^H\" /><center/>"
   ]
  },
  {
   "attachments": {},
   "cell_type": "markdown",
   "metadata": {},
   "source": [
    "奇异值分解又称谱分解，是将矩阵分解成以上形式，U和V是酉矩阵(unitary matrix)特征向量。目的是将数据谱分解后计算相似性。\n",
    "\n",
    "- M (mxn) 为待分析的矩阵数据，如图片或关系矩阵\n",
    "- H为共轭转置(Hermitian operator)\n",
    "- U (mxm) 组成一套对M的正交\"输入\"的基向量\n",
    "- V (nxn) 组成一套对M的正交\"输出\"的基向量\n",
    "- 基向量相互正交，类似于傅里叶变换中的正弦基的概念\n",
    "- Σ (mxn) 是特征对角矩阵，对角线上的值为奇异值\n",
    "\n",
    "奇异值往往对应着矩阵中隐含的重要信息，且重要性和奇异值大小正相关。奇异向量是对某一信息的描述，而奇异值则衡量了这些信息对于M的权重。\n",
    "\n",
    "如对图片数据奇异值分解，则只要保留topN个奇异值，就可以有损恢复原图，因为后面的几个奇异值对应的可能是噪声。"
   ]
  },
  {
   "attachments": {},
   "cell_type": "markdown",
   "metadata": {},
   "source": [
    "[爱因斯坦求和范式 Einstein summation convention](https://www.cnblogs.com/dechinphy/p/einsum-examples.html)可以实现点乘、元素乘、求和等操作。"
   ]
  },
  {
   "attachments": {},
   "cell_type": "markdown",
   "metadata": {},
   "source": [
    "Explanation of SVD for the case of MovieLens\n",
    "- m: movie number, n: user number\n",
    "- M: m x n\n",
    "- U: from movies to latent feature (m x r)\n",
    "- V: from latent feature to users (r x n)\n",
    "- Σ: latent feature\n",
    "\n",
    "Calculate similarity between movies\n",
    "- truncate U to top-N features\n",
    "- get latent features from U by indexing\n",
    "- calculate cosine similarity between features"
   ]
  },
  {
   "cell_type": "code",
   "execution_count": null,
   "metadata": {},
   "outputs": [],
   "source": [
    "U, S, V = np.linalg.svd(masked_arr)\n",
    "k = 50\n",
    "truncated_features = U[:, :k]"
   ]
  },
  {
   "cell_type": "code",
   "execution_count": null,
   "metadata": {},
   "outputs": [
    {
     "data": {
      "text/plain": [
       "1"
      ]
     },
     "execution_count": 38,
     "metadata": {},
     "output_type": "execute_result"
    }
   ],
   "source": [
    "query_movie = 'Jumanji (1995)'    # id=1\n",
    "queried_movie_index = movies.where(movies['title'] == query_movie).first_valid_index()\n",
    "\n",
    "queried_movie_feature = truncated_features[queried_movie_index, :]\n",
    "# 'ij, ij -> i' equal to np.sum(np.square(truncated_features), axis=1)\n",
    "magnitude = np.sqrt(np.einsum('ij, ij -> i', truncated_features, truncated_features))\n",
    "\n",
    "top_n = 10\n",
    "similarity = np.dot(truncated_features, queried_movie_feature.T) / (magnitude[queried_movie_index] * magnitude)\n",
    "sort_indexes = np.argsort(-similarity)\n",
    "\n",
    "# movies.loc[new_movie_index]['newMovieId']\n",
    "movies['title'].to_list()[sort_indexes]\n"
   ]
  }
 ],
 "metadata": {
  "kernelspec": {
   "display_name": "base",
   "language": "python",
   "name": "python3"
  },
  "language_info": {
   "codemirror_mode": {
    "name": "ipython",
    "version": 3
   },
   "file_extension": ".py",
   "mimetype": "text/x-python",
   "name": "python",
   "nbconvert_exporter": "python",
   "pygments_lexer": "ipython3",
   "version": "3.7.6"
  },
  "orig_nbformat": 4,
  "vscode": {
   "interpreter": {
    "hash": "69086cd27d80735ecca93b4f2fbc0a4ef3efce5c113ff487873c7dd6d16dd3fb"
   }
  }
 },
 "nbformat": 4,
 "nbformat_minor": 2
}
